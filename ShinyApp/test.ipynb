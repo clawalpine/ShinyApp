{
 "cells": [
  {
   "cell_type": "code",
   "execution_count": 8,
   "metadata": {},
   "outputs": [
    {
     "name": "stdout",
     "output_type": "stream",
     "text": [
      "   SEQN  RIAGENDR  RIDAGEYR  LBXRDW  LBXWBCSI  SSCYST  LBXGH  LBXSGTSI  \\\n",
      "0     6       2.0      19.0    12.8       9.6   0.569    5.1      16.0   \n",
      "1  3158       2.0      18.0    13.9       9.4   0.639    5.0       9.0   \n",
      "2  3343       1.0      19.0    12.1       6.3   0.844    5.0      19.0   \n",
      "3  3461       1.0      19.0    11.7       5.9     NaN    4.9      21.0   \n",
      "4  3579       1.0      18.0    11.6       6.9   0.806    5.1      19.0   \n",
      "\n",
      "   LBDHDD  LBXCRP  ...  LBXGLU  LBXSPH  LBDLDL  LBXSCR  id_client  \\\n",
      "0    61.0    0.06  ...     NaN     4.2     NaN     0.5          6   \n",
      "1    48.0    0.02  ...     NaN     3.3     NaN     0.3       3158   \n",
      "2    47.0    0.23  ...     NaN     3.7     NaN     1.0       3343   \n",
      "3    55.0    1.08  ...    82.1     3.3    71.0     0.8       3461   \n",
      "4    51.0    0.31  ...   101.5     3.3    80.0     0.9       3579   \n",
      "\n",
      "   mortality_population  angina_pectoris  coronary_heart_disease  \\\n",
      "0                   0.0              0.0                     0.0   \n",
      "1                   0.0              0.0                     0.0   \n",
      "2                   0.0              0.0                     0.0   \n",
      "3                   0.0              0.0                     0.0   \n",
      "4                   0.0              0.0                     0.0   \n",
      "\n",
      "   heart_attack  heart_failure  \n",
      "0           0.0            0.0  \n",
      "1           0.0            0.0  \n",
      "2           0.0            0.0  \n",
      "3           0.0            0.0  \n",
      "4           0.0            0.0  \n",
      "\n",
      "[5 rows x 24 columns]\n"
     ]
    }
   ],
   "source": [
    "import pandas as pd\n",
    "\n",
    "# Load datasets\n",
    "nhanes_dict = pd.read_csv(\"/Users/chancenlaw/Desktop/nhanes_dictionary.csv\")\n",
    "nhanes_biomarkers = pd.read_csv(\"/Users/chancenlaw/Desktop/nhanes_markers.csv\")\n",
    "nhanes_labels = pd.read_csv(\"/Users/chancenlaw/Desktop/nhanes_heart_disease_labels.csv\")\n",
    "\n",
    "# Sample selection of columns to merge\n",
    "selected_biomarker = \"example_biomarker\"  # Replace with actual biomarker column name\n",
    "selected_label = \"example_label\"  # Replace with actual label column name\n",
    "\n",
    "# Merge data for plotting\n",
    "# Merge data for plotting\n",
    "merged_data = pd.merge(\n",
    "    nhanes_biomarkers,\n",
    "    nhanes_labels,\n",
    "    left_on=\"SEQN\",\n",
    "    right_on=\"id_client\",\n",
    "    how=\"inner\"  # Use inner join to keep only matching sample numbers\n",
    "\n",
    ")\n",
    "\n",
    "# Display the first few rows of the merged dataset\n",
    "print(merged_data.head())\n"
   ]
  },
  {
   "cell_type": "code",
   "execution_count": 16,
   "metadata": {},
   "outputs": [
    {
     "name": "stdout",
     "output_type": "stream",
     "text": [
      "      RIAGENDR  RIDAGEYR  LBXRDW  LBXWBCSI  SSCYST  LBXGH  LBXSGTSI  LBDHDD  \\\n",
      "ID                                                                            \n",
      "6          2.0      19.0    12.8       9.6   0.569    5.1      16.0    61.0   \n",
      "3158       2.0      18.0    13.9       9.4   0.639    5.0       9.0    48.0   \n",
      "3343       1.0      19.0    12.1       6.3   0.844    5.0      19.0    47.0   \n",
      "3461       1.0      19.0    11.7       5.9     NaN    4.9      21.0    55.0   \n",
      "3579       1.0      18.0    11.6       6.9   0.806    5.1      19.0    51.0   \n",
      "\n",
      "      LBXCRP  LBXSAPSI  ...  BMXBMI  LBXGLU  LBXSPH  LBDLDL  LBXSCR  \\\n",
      "ID                      ...                                           \n",
      "6       0.06      78.0  ...   22.56     NaN     4.2     NaN     0.5   \n",
      "3158    0.02     102.0  ...   19.53     NaN     3.3     NaN     0.3   \n",
      "3343    0.23      58.0  ...   26.31     NaN     3.7     NaN     1.0   \n",
      "3461    1.08      91.0  ...   22.77    82.1     3.3    71.0     0.8   \n",
      "3579    0.31      98.0  ...   23.49   101.5     3.3    80.0     0.9   \n",
      "\n",
      "      mortality_population  angina_pectoris  coronary_heart_disease  \\\n",
      "ID                                                                    \n",
      "6                      0.0              0.0                     0.0   \n",
      "3158                   0.0              0.0                     0.0   \n",
      "3343                   0.0              0.0                     0.0   \n",
      "3461                   0.0              0.0                     0.0   \n",
      "3579                   0.0              0.0                     0.0   \n",
      "\n",
      "      heart_attack  heart_failure  \n",
      "ID                                 \n",
      "6              0.0            0.0  \n",
      "3158           0.0            0.0  \n",
      "3343           0.0            0.0  \n",
      "3461           0.0            0.0  \n",
      "3579           0.0            0.0  \n",
      "\n",
      "[5 rows x 22 columns]\n"
     ]
    }
   ],
   "source": [
    "import pandas as pd\n",
    "\n",
    "# Load datasets\n",
    "nhanes_dict = pd.read_csv(\"/Users/chancenlaw/Desktop/nhanes_dictionary.csv\")\n",
    "nhanes_biomarkers = pd.read_csv(\"/Users/chancenlaw/Desktop/nhanes_markers.csv\")\n",
    "nhanes_labels = pd.read_csv(\"/Users/chancenlaw/Desktop/nhanes_heart_disease_labels.csv\")\n",
    "\n",
    "matching_ids = set(nhanes_biomarkers[\"SEQN\"]).intersection(nhanes_labels[\"id_client\"])\n",
    "filtered_biomarkers = nhanes_biomarkers[nhanes_biomarkers[\"SEQN\"].isin(matching_ids)]\n",
    "filtered_labels = nhanes_labels[nhanes_labels[\"id_client\"].isin(matching_ids)]\n",
    "# Merge data for plotting\n",
    "merged_data = pd.merge(\n",
    "    filtered_biomarkers,\n",
    "    filtered_labels,\n",
    "    left_on=\"SEQN\",\n",
    "    right_on=\"id_client\"\n",
    "\n",
    ").set_index(\"SEQN\").drop(columns=[\"id_client\"]).rename_axis(\"ID\")\n",
    "\n",
    "# Display the first few rows of the merged datase\n",
    "print(merged_data.head())\n"
   ]
  },
  {
   "cell_type": "code",
   "execution_count": null,
   "metadata": {},
   "outputs": [],
   "source": []
  }
 ],
 "metadata": {
  "kernelspec": {
   "display_name": ".venv",
   "language": "python",
   "name": "python3"
  },
  "language_info": {
   "codemirror_mode": {
    "name": "ipython",
    "version": 3
   },
   "file_extension": ".py",
   "mimetype": "text/x-python",
   "name": "python",
   "nbconvert_exporter": "python",
   "pygments_lexer": "ipython3",
   "version": "3.12.5"
  }
 },
 "nbformat": 4,
 "nbformat_minor": 2
}
